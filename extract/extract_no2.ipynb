{
 "cells": [
  {
   "cell_type": "markdown",
   "id": "711dae40",
   "metadata": {},
   "source": [
    "## Deriving Tropospheric NO₂ Concentration Using Google Earth Engine from HUCs\n",
    "\n",
    "This notebook documents the methodology used to extract monthly tropospheric NO₂ concentrations over Philippine cities using Sentinel-5P satellite data via Google Earth Engine (GEE). Same extraction is done for extracting monthy tropospheric NO2 concentration over target Philippine Regions\n",
    "\n",
    "### 1. Region Definition: Philippine Cities and Municipalities\n",
    "\n",
    "We began by loading the Level-2 administrative boundaries (ADM3) for the Philippines:\n"
   ]
  },
  {
   "cell_type": "code",
   "execution_count": null,
   "id": "33abda8e",
   "metadata": {
    "vscode": {
     "languageId": "javascript"
    }
   },
   "outputs": [],
   "source": [
    "var level2 = ee.FeatureCollection(\"projects/air-quality-monitoring-461610/assets/PH_Adm3_MuniCities\");\n",
    "print(\"Sample Level-2 units:\", level2.limit(5));"
   ]
  },
  {
   "cell_type": "markdown",
   "id": "b836804d",
   "metadata": {},
   "source": [
    "From this, we selected 33 Highly Urbanized Cities (HUCs) by filtering `adm3_en`:"
   ]
  },
  {
   "cell_type": "code",
   "execution_count": null,
   "id": "deefea29",
   "metadata": {
    "vscode": {
     "languageId": "javascript"
    }
   },
   "outputs": [],
   "source": [
    "var hucNames = [\n",
    "    \"Quezon City\", \"City of Davao\", \"City of Makati\", \"City of Cebu\", \"City of Baguio\",\n",
    "    \"City of Iloilo\", \"City of Zamboanga\", \"City of Pasig\", \"City of Mandaluyong\",\n",
    "    \"City of Muntinlupa\", \"City of Parañaque\", \"City of Valenzuela\", \"City of Manila\",\n",
    "    \"City of Las Piñas\", \"City of Caloocan\", \"City of Marikina\", \"City of Malabon\",\n",
    "    \"City of Navotas\", \"City of Taguig\", \"Pasay City\", \"City of Tacloban\", \"City of Butuan\",\n",
    "    \"City of Bacolod\", \"City of Angeles\", \"City of Lucena\", \"City of Olongapo\",\n",
    "    \"City of General Santos\", \"City of Puerto Princesa\", \"City of Lapu-Lapu\",\n",
    "    \"City of Mandaue\", \"Ormoc City\", \"City of Cagayan De Oro\", \"City of Iligan\",\n",
    "    \"City of Cotabato\", \"Pateros\", \"City of Isabela\", \"City of San Juan\"\n",
    "  ];\n",
    "\n",
    "var hucFilter = ee.Filter.inList('adm3_en', hucNames);\n",
    "var hucFeatures = level2.filter(hucFilter);"
   ]
  },
  {
   "cell_type": "markdown",
   "id": "eb7c85dd",
   "metadata": {},
   "source": [
    "These cities served as zones for aggregating NO₂ values."
   ]
  },
  {
   "cell_type": "markdown",
   "id": "bfba3024",
   "metadata": {},
   "source": [
    "### 2. Temporal Coverage: January 2018 – December 2025\n",
    "\n",
    "The analysis period covers:\n",
    "\n",
    "- Start: January 1, 2018  \n",
    "- End: December 31, 2025"
   ]
  },
  {
   "cell_type": "code",
   "execution_count": null,
   "id": "b64ca017",
   "metadata": {
    "vscode": {
     "languageId": "javascript"
    }
   },
   "outputs": [],
   "source": [
    "var startDate = ee.Date('2018-01-01');\n",
    "var endDate   = ee.Date('2026-01-01'); // Exclusive end date"
   ]
  },
  {
   "cell_type": "markdown",
   "id": "11ce8332",
   "metadata": {},
   "source": [
    "We then generated monthly indices within this period:"
   ]
  },
  {
   "cell_type": "code",
   "execution_count": null,
   "id": "9481786f",
   "metadata": {
    "vscode": {
     "languageId": "javascript"
    }
   },
   "outputs": [],
   "source": [
    "var nMonths = endDate.difference(startDate, 'month').toInt();\n",
    "var monthIndices = ee.List.sequence(0, nMonths.subtract(1));"
   ]
  },
  {
   "cell_type": "markdown",
   "id": "cbe7e6bf",
   "metadata": {
    "vscode": {
     "languageId": "html"
    }
   },
   "source": [
    "### 🛰 3. Satellite Data: Sentinel-5P OFFL NO₂ Product\n",
    "\n",
    "We used the Sentinel-5P tropospheric NO₂ dataset:\n",
    "\n",
    "- Dataset ID: `COPERNICUS/S5P/OFFL/L3_NO2`  \n",
    "- Band: `NO2_column_number_density` (mol/m²)\n"
   ]
  },
  {
   "cell_type": "markdown",
   "id": "91381abd",
   "metadata": {},
   "source": [
    "\n",
    "### 🧮 4. Monthly Mean NO₂ Extraction\n",
    "\n",
    "For each month in the date range:\n",
    "- Filter satellite images to that month\n",
    "- Compute the monthly mean image\n",
    "- Apply zonal mean reduction over each HUC"
   ]
  },
  {
   "cell_type": "code",
   "execution_count": null,
   "id": "f74a8389",
   "metadata": {
    "vscode": {
     "languageId": "javascript"
    }
   },
   "outputs": [],
   "source": [
    "var perMonthCollections = monthIndices.map(function(monthOffset) {\n",
    "var thisMonthStart = startDate.advance(monthOffset, 'month');\n",
    "var nextMonthStart = thisMonthStart.advance(1, 'month');\n",
    "\n",
    "var monthlyImage = ee.ImageCollection('COPERNICUS/S5P/OFFL/L3_NO2')\n",
    "    .filterDate(thisMonthStart, nextMonthStart)\n",
    "    .select('NO2_column_number_density')\n",
    "    .mean();\n",
    "\n",
    "var bandExists = monthlyImage.bandNames().contains('NO2_column_number_density');\n",
    "\n",
    "return ee.Algorithms.If(\n",
    "    bandExists,\n",
    "    monthlyImage.reduceRegions({\n",
    "    collection: hucFeatures,\n",
    "    reducer: ee.Reducer.mean().setOutputs(['NO2']),\n",
    "    scale: 1000,\n",
    "    tileScale: 4\n",
    "    }).map(function(cityFeature) {\n",
    "    return cityFeature.set('month', thisMonthStart.format('YYYY-MM'));\n",
    "    }),\n",
    "    null\n",
    ");\n",
    "});"
   ]
  },
  {
   "cell_type": "markdown",
   "id": "ec4ec3fc",
   "metadata": {},
   "source": [
    "We removed `null` entries and flattened the result:"
   ]
  },
  {
   "cell_type": "code",
   "execution_count": null,
   "id": "fa2cf450",
   "metadata": {
    "vscode": {
     "languageId": "javascript"
    }
   },
   "outputs": [],
   "source": [
    "var filteredList = ee.List(perMonthCollections).removeAll([null]);\n",
    "var NO2_byHUC_Month = ee.FeatureCollection(filteredList).flatten();"
   ]
  },
  {
   "cell_type": "markdown",
   "id": "323e64f1",
   "metadata": {},
   "source": [
    "\n",
    "### 📅 5. Temporal Tagging\n",
    "\n",
    "Each feature was annotated with:\n",
    "\n",
    "- `month`: formatted string (e.g., `\"2021-07\"`)\n",
    "- `date`: actual date object (`YYYY-MM-01`)\n"
   ]
  },
  {
   "cell_type": "code",
   "execution_count": null,
   "id": "3886b40c",
   "metadata": {
    "vscode": {
     "languageId": "javascript"
    }
   },
   "outputs": [],
   "source": [
    "var NO2_withDate = NO2_byHUC_Month.map(function(f) {\n",
    "    var monthString = ee.String(f.get('month'));\n",
    "    var fullDateString = monthString.cat('-01');\n",
    "    var dt = ee.Date(fullDateString);\n",
    "    return f.set('date', dt);\n",
    "});"
   ]
  },
  {
   "cell_type": "markdown",
   "id": "edbe08e0",
   "metadata": {
    "vscode": {
     "languageId": "javascript"
    }
   },
   "source": [
    "### 📤 6. Exporting the Final Dataset\n",
    "\n",
    "We exported the complete NO₂"
   ]
  },
  {
   "cell_type": "code",
   "execution_count": null,
   "id": "a10e5198",
   "metadata": {
    "vscode": {
     "languageId": "javascript"
    }
   },
   "outputs": [],
   "source": [
    "Export.table.toDrive({\n",
    "    collection: NO2_withDate,\n",
    "    description: 'PHL_HUCs_Monthly_NO2_2018_2025',\n",
    "    fileFormat: 'CSV',\n",
    "    selectors: ['adm3_en', 'month', 'NO2', 'date']\n",
    "});"
   ]
  },
  {
   "cell_type": "markdown",
   "id": "e27c9d17",
   "metadata": {},
   "source": [
    "\n",
    "The CSV includes:\n",
    "- `adm3_en`: city name\n",
    "- `month`: month in `\"YYYY-MM\"` format\n",
    "- `NO2`: mean concentration (mol/m²)\n",
    "- `date`: full date object\n",
    "\n",
    "The CSV file is found at `../datasets/no2_data`"
   ]
  }
 ],
 "metadata": {
  "kernelspec": {
   "display_name": "msds_env",
   "language": "python",
   "name": "python3"
  },
  "language_info": {
   "codemirror_mode": {
    "name": "ipython",
    "version": 3
   },
   "file_extension": ".py",
   "mimetype": "text/x-python",
   "name": "python",
   "nbconvert_exporter": "python",
   "pygments_lexer": "ipython3",
   "version": "3.11.9"
  }
 },
 "nbformat": 4,
 "nbformat_minor": 5
}
